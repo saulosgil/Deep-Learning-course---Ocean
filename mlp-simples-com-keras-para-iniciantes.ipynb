{
 "cells": [
  {
   "cell_type": "markdown",
   "metadata": {
    "papermill": {
     "duration": 0.019367,
     "end_time": "2021-02-15T13:35:12.857170",
     "exception": false,
     "start_time": "2021-02-15T13:35:12.837803",
     "status": "completed"
    },
    "tags": []
   },
   "source": [
    "# Introdução"
   ]
  },
  {
   "cell_type": "markdown",
   "metadata": {
    "papermill": {
     "duration": 0.017556,
     "end_time": "2021-02-15T13:35:12.892866",
     "exception": false,
     "start_time": "2021-02-15T13:35:12.875310",
     "status": "completed"
    },
    "tags": []
   },
   "source": [
    "**Resumo:**\n",
    "\n",
    "O exemplo aqui desenvolvido tem como objetivo apresentar conceitos iniciais de implementação de redes neurais com python e tensorflow/keras. Esse modelo apresenta um modelo MLP básico que pode ser expandido mudando o número de neurônios e camadas. Em adaptações mais avançadas, pode-se estudar possibilidade de otimização de hyperparâmetros e outras técnincas como aumento de dados.\n",
    "\n",
    "**Não é objetivo nosso desenvolver e otimizar o modelo de classificação**. O exemplo tem objetivo meramente didático.\n",
    "\n",
    "---\n",
    "\n",
    "**Para saber mais:**\n",
    "* [Palestras e cursos do Ocean](http://www.oceanbrasil.com/)\n",
    "* François Chollet. Deep Learning with Python. Manning Publications, 2017.\n",
    "* Ian Goodfellow and Yoshua Bengio and Aaron Courville. [Deep Learning](https://www.deeplearningbook.org/). MIT Press, 2016."
   ]
  },
  {
   "cell_type": "markdown",
   "metadata": {
    "papermill": {
     "duration": 0.01777,
     "end_time": "2021-02-15T13:35:12.928834",
     "exception": false,
     "start_time": "2021-02-15T13:35:12.911064",
     "status": "completed"
    },
    "tags": []
   },
   "source": [
    "# Bibliotecas e Dados"
   ]
  },
  {
   "cell_type": "code",
   "execution_count": 1,
   "metadata": {
    "ExecuteTime": {
     "end_time": "2019-01-16T20:39:41.500258Z",
     "start_time": "2019-01-16T20:39:39.261856Z"
    },
    "execution": {
     "iopub.execute_input": "2021-02-15T13:35:12.976591Z",
     "iopub.status.busy": "2021-02-15T13:35:12.975565Z",
     "iopub.status.idle": "2021-02-15T13:35:19.313280Z",
     "shell.execute_reply": "2021-02-15T13:35:19.312567Z"
    },
    "papermill": {
     "duration": 6.366011,
     "end_time": "2021-02-15T13:35:19.313438",
     "exception": false,
     "start_time": "2021-02-15T13:35:12.947427",
     "status": "completed"
    },
    "tags": []
   },
   "outputs": [],
   "source": [
    "# Bibliotecas necessárias\n",
    "# Manipulação de dados\n",
    "import pandas as pd\n",
    "# Redes Neurais\n",
    "from tensorflow import keras\n",
    "from tensorflow.keras.datasets import mnist\n",
    "from tensorflow.keras.models import Sequential\n",
    "from tensorflow.keras.layers import Dense, Dropout\n",
    "from tensorflow.keras.optimizers import RMSprop\n",
    "# Plot\n",
    "import matplotlib.pyplot as plt\n",
    "%matplotlib inline\n",
    "# Avaliação\n",
    "from sklearn.metrics import classification_report, confusion_matrix"
   ]
  },
  {
   "cell_type": "code",
   "execution_count": 2,
   "metadata": {
    "execution": {
     "iopub.execute_input": "2021-02-15T13:35:19.356304Z",
     "iopub.status.busy": "2021-02-15T13:35:19.355229Z",
     "iopub.status.idle": "2021-02-15T13:35:23.464224Z",
     "shell.execute_reply": "2021-02-15T13:35:23.463649Z"
    },
    "papermill": {
     "duration": 4.131495,
     "end_time": "2021-02-15T13:35:23.464383",
     "exception": false,
     "start_time": "2021-02-15T13:35:19.332888",
     "status": "completed"
    },
    "tags": []
   },
   "outputs": [],
   "source": [
    "# Lendo o dataset Kaggle\n",
    "train = pd.read_csv(\"../input/digit-recognizer/train.csv\")\n",
    "\n",
    "#Alternativa ler do próprio keras\n",
    "#(x_train, y_train), (x_test, y_test) = mnist.load_data()\n"
   ]
  },
  {
   "cell_type": "code",
   "execution_count": 3,
   "metadata": {
    "execution": {
     "iopub.execute_input": "2021-02-15T13:35:23.518239Z",
     "iopub.status.busy": "2021-02-15T13:35:23.517361Z",
     "iopub.status.idle": "2021-02-15T13:35:23.523999Z",
     "shell.execute_reply": "2021-02-15T13:35:23.524549Z"
    },
    "papermill": {
     "duration": 0.0417,
     "end_time": "2021-02-15T13:35:23.524733",
     "exception": false,
     "start_time": "2021-02-15T13:35:23.483033",
     "status": "completed"
    },
    "tags": []
   },
   "outputs": [
    {
     "name": "stdout",
     "output_type": "stream",
     "text": [
      "Quantidade de elementos de treino: 42000\n",
      "   label  pixel0  pixel1  pixel2  pixel3  pixel4  pixel5  pixel6  pixel7  \\\n",
      "0      1       0       0       0       0       0       0       0       0   \n",
      "1      0       0       0       0       0       0       0       0       0   \n",
      "2      1       0       0       0       0       0       0       0       0   \n",
      "3      4       0       0       0       0       0       0       0       0   \n",
      "4      0       0       0       0       0       0       0       0       0   \n",
      "\n",
      "   pixel8  ...  pixel774  pixel775  pixel776  pixel777  pixel778  pixel779  \\\n",
      "0       0  ...         0         0         0         0         0         0   \n",
      "1       0  ...         0         0         0         0         0         0   \n",
      "2       0  ...         0         0         0         0         0         0   \n",
      "3       0  ...         0         0         0         0         0         0   \n",
      "4       0  ...         0         0         0         0         0         0   \n",
      "\n",
      "   pixel780  pixel781  pixel782  pixel783  \n",
      "0         0         0         0         0  \n",
      "1         0         0         0         0  \n",
      "2         0         0         0         0  \n",
      "3         0         0         0         0  \n",
      "4         0         0         0         0  \n",
      "\n",
      "[5 rows x 785 columns]\n"
     ]
    }
   ],
   "source": [
    "# Analisando o dataset\n",
    "print(\"Quantidade de elementos de treino: {}\". format(len(train)))\n",
    "print(train.head())"
   ]
  },
  {
   "cell_type": "code",
   "execution_count": 4,
   "metadata": {
    "execution": {
     "iopub.execute_input": "2021-02-15T13:35:23.748484Z",
     "iopub.status.busy": "2021-02-15T13:35:23.573715Z",
     "iopub.status.idle": "2021-02-15T13:35:23.763423Z",
     "shell.execute_reply": "2021-02-15T13:35:23.762347Z"
    },
    "papermill": {
     "duration": 0.219363,
     "end_time": "2021-02-15T13:35:23.763612",
     "exception": false,
     "start_time": "2021-02-15T13:35:23.544249",
     "status": "completed"
    },
    "tags": []
   },
   "outputs": [
    {
     "name": "stdout",
     "output_type": "stream",
     "text": [
      "   pixel0  pixel1  pixel2  pixel3  pixel4  pixel5  pixel6  pixel7  pixel8  \\\n",
      "0       0       0       0       0       0       0       0       0       0   \n",
      "1       0       0       0       0       0       0       0       0       0   \n",
      "2       0       0       0       0       0       0       0       0       0   \n",
      "3       0       0       0       0       0       0       0       0       0   \n",
      "4       0       0       0       0       0       0       0       0       0   \n",
      "\n",
      "   pixel9  ...  pixel774  pixel775  pixel776  pixel777  pixel778  pixel779  \\\n",
      "0       0  ...         0         0         0         0         0         0   \n",
      "1       0  ...         0         0         0         0         0         0   \n",
      "2       0  ...         0         0         0         0         0         0   \n",
      "3       0  ...         0         0         0         0         0         0   \n",
      "4       0  ...         0         0         0         0         0         0   \n",
      "\n",
      "   pixel780  pixel781  pixel782  pixel783  \n",
      "0         0         0         0         0  \n",
      "1         0         0         0         0  \n",
      "2         0         0         0         0  \n",
      "3         0         0         0         0  \n",
      "4         0         0         0         0  \n",
      "\n",
      "[5 rows x 784 columns]\n"
     ]
    }
   ],
   "source": [
    "# Separando x_train e y_train\n",
    "Y = train[\"label\"]\n",
    "X = train.drop(labels = [\"label\"],axis = 1)\n",
    "print(X.head())\n",
    "# Em formato numpy array de imagens 28 x 28\n",
    "#x = X.values.reshape(-1,28,28,1)\n",
    "#print(x[0])"
   ]
  },
  {
   "cell_type": "code",
   "execution_count": 5,
   "metadata": {
    "execution": {
     "iopub.execute_input": "2021-02-15T13:35:23.811942Z",
     "iopub.status.busy": "2021-02-15T13:35:23.811007Z",
     "iopub.status.idle": "2021-02-15T13:35:23.815467Z",
     "shell.execute_reply": "2021-02-15T13:35:23.814764Z"
    },
    "papermill": {
     "duration": 0.031507,
     "end_time": "2021-02-15T13:35:23.815604",
     "exception": false,
     "start_time": "2021-02-15T13:35:23.784097",
     "status": "completed"
    },
    "tags": []
   },
   "outputs": [
    {
     "name": "stdout",
     "output_type": "stream",
     "text": [
      "0        1\n",
      "1        0\n",
      "2        1\n",
      "3        4\n",
      "4        0\n",
      "        ..\n",
      "41995    0\n",
      "41996    1\n",
      "41997    7\n",
      "41998    6\n",
      "41999    9\n",
      "Name: label, Length: 42000, dtype: int64\n"
     ]
    }
   ],
   "source": [
    "print(Y)"
   ]
  },
  {
   "cell_type": "code",
   "execution_count": 6,
   "metadata": {
    "ExecuteTime": {
     "end_time": "2019-01-08T20:49:47.144492Z",
     "start_time": "2019-01-08T20:49:47.016025Z"
    },
    "execution": {
     "iopub.execute_input": "2021-02-15T13:35:23.865936Z",
     "iopub.status.busy": "2021-02-15T13:35:23.865236Z",
     "iopub.status.idle": "2021-02-15T13:35:24.076002Z",
     "shell.execute_reply": "2021-02-15T13:35:24.076532Z"
    },
    "papermill": {
     "duration": 0.239318,
     "end_time": "2021-02-15T13:35:24.076719",
     "exception": false,
     "start_time": "2021-02-15T13:35:23.837401",
     "status": "completed"
    },
    "tags": []
   },
   "outputs": [
    {
     "data": {
      "image/png": "[encoded data removed]",
      "text/plain": [
       "<Figure size 432x288 with 1 Axes>"
      ]
     },
     "metadata": {
      "needs_background": "light"
     },
     "output_type": "display_data"
    },
    {
     "name": "stdout",
     "output_type": "stream",
     "text": [
      "Label: 9\n"
     ]
    }
   ],
   "source": [
    "# Numtendi nada!\n",
    "# Bora ver com matplotlib\n",
    "plt.imshow(X.values[100].reshape(28,28), cmap=plt.cm.binary)\n",
    "plt.show()\n",
    "print('Label: {}'.format(Y[100]))"
   ]
  },
  {
   "cell_type": "code",
   "execution_count": 7,
   "metadata": {
    "ExecuteTime": {
     "end_time": "2019-01-08T20:49:57.425537Z",
     "start_time": "2019-01-08T20:49:57.272377Z"
    },
    "execution": {
     "iopub.execute_input": "2021-02-15T13:35:24.133431Z",
     "iopub.status.busy": "2021-02-15T13:35:24.132767Z",
     "iopub.status.idle": "2021-02-15T13:35:24.273199Z",
     "shell.execute_reply": "2021-02-15T13:35:24.273894Z"
    },
    "papermill": {
     "duration": 0.170469,
     "end_time": "2021-02-15T13:35:24.274044",
     "exception": false,
     "start_time": "2021-02-15T13:35:24.103575",
     "status": "completed"
    },
    "tags": []
   },
   "outputs": [
    {
     "name": "stdout",
     "output_type": "stream",
     "text": [
      "[0.         0.         0.         0.         0.         0.\n",
      " 0.         0.         0.         0.         0.         0.\n",
      " 0.         0.         0.         0.         0.         0.\n",
      " 0.         0.         0.         0.         0.         0.\n",
      " 0.         0.         0.         0.         0.         0.\n",
      " 0.         0.         0.         0.         0.         0.\n",
      " 0.         0.         0.         0.         0.         0.\n",
      " 0.         0.         0.         0.         0.         0.\n",
      " 0.         0.         0.         0.         0.         0.\n",
      " 0.         0.         0.         0.         0.         0.\n",
      " 0.         0.         0.         0.         0.         0.\n",
      " 0.         0.         0.         0.         0.         0.\n",
      " 0.         0.         0.         0.         0.         0.\n",
      " 0.         0.         0.         0.         0.         0.\n",
      " 0.         0.         0.         0.         0.         0.\n",
      " 0.         0.         0.         0.         0.         0.\n",
      " 0.         0.         0.         0.         0.         0.\n",
      " 0.         0.         0.         0.         0.         0.\n",
      " 0.         0.         0.         0.         0.         0.\n",
      " 0.         0.         0.         0.         0.         0.\n",
      " 0.         0.         0.         0.         0.         0.\n",
      " 0.         0.         0.         0.         0.         0.\n",
      " 0.7372549  1.         0.36862746 0.         0.         0.\n",
      " 0.         0.         0.         0.         0.         0.\n",
      " 0.         0.         0.         0.         0.         0.\n",
      " 0.         0.         0.         0.         0.         0.\n",
      " 0.         0.         0.         0.7490196  0.98039216 0.99215686\n",
      " 0.3647059  0.         0.         0.         0.         0.\n",
      " 0.         0.         0.         0.         0.         0.\n",
      " 0.         0.         0.         0.         0.         0.\n",
      " 0.         0.         0.         0.         0.         0.\n",
      " 0.48235294 0.972549   0.99215686 0.654902   0.03921569 0.\n",
      " 0.         0.         0.         0.         0.         0.\n",
      " 0.         0.         0.         0.         0.         0.\n",
      " 0.         0.         0.         0.         0.         0.\n",
      " 0.         0.         0.         0.3137255  0.96862745 0.99215686\n",
      " 0.8156863  0.05098039 0.         0.         0.         0.\n",
      " 0.         0.         0.         0.         0.         0.\n",
      " 0.         0.         0.         0.         0.         0.\n",
      " 0.         0.         0.         0.         0.         0.\n",
      " 0.11372549 0.8117647  0.99215686 0.92156863 0.3019608  0.\n",
      " 0.         0.         0.         0.         0.         0.\n",
      " 0.         0.         0.         0.         0.         0.\n",
      " 0.         0.         0.         0.         0.         0.\n",
      " 0.         0.         0.         0.21176471 0.81960785 0.99215686\n",
      " 0.99215686 0.34509805 0.         0.         0.         0.\n",
      " 0.         0.         0.         0.         0.         0.\n",
      " 0.         0.         0.         0.         0.         0.\n",
      " 0.         0.         0.         0.         0.         0.\n",
      " 0.3647059  0.99607843 0.99215686 0.93333334 0.6666667  0.06666667\n",
      " 0.         0.         0.         0.         0.         0.\n",
      " 0.         0.         0.         0.         0.         0.\n",
      " 0.         0.         0.         0.         0.         0.\n",
      " 0.         0.         0.         0.09019608 0.8235294  0.99607843\n",
      " 0.99215686 0.62352943 0.         0.         0.         0.\n",
      " 0.         0.         0.         0.         0.         0.\n",
      " 0.         0.         0.         0.         0.         0.\n",
      " 0.         0.         0.         0.         0.         0.\n",
      " 0.0627451  0.81960785 0.99215686 0.99607843 0.9411765  0.31764707\n",
      " 0.         0.         0.         0.         0.         0.\n",
      " 0.         0.         0.         0.         0.         0.\n",
      " 0.         0.         0.         0.         0.         0.\n",
      " 0.         0.         0.         0.         0.10588235 0.99215686\n",
      " 0.99215686 0.99607843 0.05098039 0.         0.         0.\n",
      " 0.         0.         0.         0.         0.         0.\n",
      " 0.         0.         0.         0.         0.         0.\n",
      " 0.         0.         0.         0.         0.         0.\n",
      " 0.         0.07843138 0.80784315 0.99607843 0.99607843 0.7764706\n",
      " 0.02745098 0.         0.         0.         0.         0.\n",
      " 0.         0.         0.         0.         0.         0.\n",
      " 0.         0.         0.         0.         0.         0.\n",
      " 0.         0.         0.         0.         0.         0.65882355\n",
      " 0.99215686 0.99215686 0.76862746 0.02745098 0.         0.\n",
      " 0.         0.         0.         0.         0.         0.\n",
      " 0.         0.         0.         0.         0.         0.\n",
      " 0.         0.         0.         0.         0.         0.\n",
      " 0.         0.         0.07843138 0.79607844 0.99215686 0.972549\n",
      " 0.29803923 0.         0.         0.         0.         0.\n",
      " 0.         0.         0.         0.         0.         0.\n",
      " 0.         0.         0.         0.         0.         0.\n",
      " 0.         0.         0.         0.         0.         0.08627451\n",
      " 0.7372549  0.99215686 0.9607843  0.3647059  0.         0.\n",
      " 0.         0.         0.         0.         0.         0.\n",
      " 0.         0.         0.         0.         0.         0.\n",
      " 0.         0.         0.         0.         0.         0.\n",
      " 0.         0.         0.         0.40392157 0.99215686 0.99215686\n",
      " 0.7490196  0.         0.         0.         0.         0.\n",
      " 0.         0.         0.         0.         0.         0.\n",
      " 0.         0.         0.         0.         0.         0.\n",
      " 0.         0.         0.         0.         0.         0.\n",
      " 0.34901962 0.9411765  0.99215686 0.7647059  0.09803922 0.\n",
      " 0.         0.         0.         0.         0.         0.\n",
      " 0.         0.         0.         0.         0.         0.\n",
      " 0.         0.         0.         0.         0.         0.\n",
      " 0.         0.         0.         0.05882353 0.8627451  0.99215686\n",
      " 0.99215686 0.3137255  0.         0.         0.         0.\n",
      " 0.         0.         0.         0.         0.         0.\n",
      " 0.         0.         0.         0.         0.         0.\n",
      " 0.         0.         0.         0.         0.         0.\n",
      " 0.         0.36862746 0.99215686 0.99215686 0.99215686 0.36862746\n",
      " 0.         0.         0.         0.         0.         0.\n",
      " 0.         0.         0.         0.         0.         0.\n",
      " 0.         0.         0.         0.         0.         0.\n",
      " 0.         0.         0.         0.         0.         0.34901962\n",
      " 0.9843137  0.99215686 0.98039216 0.5137255  0.         0.\n",
      " 0.         0.         0.         0.         0.         0.\n",
      " 0.         0.         0.         0.         0.         0.\n",
      " 0.         0.         0.         0.         0.         0.\n",
      " 0.         0.         0.         0.         0.8392157  0.85490197\n",
      " 0.37254903 0.         0.         0.         0.         0.\n",
      " 0.         0.         0.         0.         0.         0.\n",
      " 0.         0.         0.         0.         0.         0.\n",
      " 0.         0.         0.         0.         0.         0.\n",
      " 0.         0.         0.         0.         0.         0.\n",
      " 0.         0.         0.         0.         0.         0.\n",
      " 0.         0.         0.         0.         0.         0.\n",
      " 0.         0.         0.         0.         0.         0.\n",
      " 0.         0.         0.         0.         0.         0.\n",
      " 0.         0.         0.         0.         0.         0.\n",
      " 0.         0.         0.         0.         0.         0.\n",
      " 0.         0.         0.         0.         0.         0.\n",
      " 0.         0.         0.         0.         0.         0.\n",
      " 0.         0.         0.         0.         0.         0.\n",
      " 0.         0.         0.         0.         0.         0.\n",
      " 0.         0.         0.         0.         0.         0.\n",
      " 0.         0.         0.         0.         0.         0.\n",
      " 0.         0.         0.         0.         0.         0.\n",
      " 0.         0.         0.         0.         0.         0.\n",
      " 0.         0.         0.         0.         0.         0.\n",
      " 0.         0.         0.         0.         0.         0.\n",
      " 0.         0.         0.         0.        ]\n"
     ]
    }
   ],
   "source": [
    "# Transformando a imagem 2d em um numpy array (imagem 28*28 = 784 pixels)\n",
    "x = X.values.reshape(42000, 784)\n",
    "\n",
    "#Normalizando para valores entre 0 e 1\n",
    "x = x.astype('float32')\n",
    "x /= 255\n",
    "\n",
    "print(x[0])"
   ]
  },
  {
   "cell_type": "code",
   "execution_count": 8,
   "metadata": {
    "ExecuteTime": {
     "end_time": "2019-01-08T20:50:48.007428Z",
     "start_time": "2019-01-08T20:50:47.986527Z"
    },
    "execution": {
     "iopub.execute_input": "2021-02-15T13:35:24.324799Z",
     "iopub.status.busy": "2021-02-15T13:35:24.323975Z",
     "iopub.status.idle": "2021-02-15T13:35:24.329281Z",
     "shell.execute_reply": "2021-02-15T13:35:24.329974Z"
    },
    "papermill": {
     "duration": 0.0341,
     "end_time": "2021-02-15T13:35:24.330159",
     "exception": false,
     "start_time": "2021-02-15T13:35:24.296059",
     "status": "completed"
    },
    "tags": []
   },
   "outputs": [
    {
     "name": "stdout",
     "output_type": "stream",
     "text": [
      "[0. 1. 0. 0. 0. 0. 0. 0. 0. 0.]\n"
     ]
    }
   ],
   "source": [
    "# Vamos ajustar o formato da saida\n",
    "num_classes = 10\n",
    "\n",
    "# Convertendo para um vetor de saida com 10 dimensoes\n",
    "# ex. 8 => [0,0,0,0,0,0,0,0,1,0]\n",
    "y = keras.utils.to_categorical(Y, num_classes)\n",
    "print(y[0])"
   ]
  },
  {
   "cell_type": "code",
   "execution_count": 9,
   "metadata": {
    "execution": {
     "iopub.execute_input": "2021-02-15T13:35:24.384036Z",
     "iopub.status.busy": "2021-02-15T13:35:24.383202Z",
     "iopub.status.idle": "2021-02-15T13:35:25.005236Z",
     "shell.execute_reply": "2021-02-15T13:35:25.005752Z"
    },
    "papermill": {
     "duration": 0.652412,
     "end_time": "2021-02-15T13:35:25.005930",
     "exception": false,
     "start_time": "2021-02-15T13:35:24.353518",
     "status": "completed"
    },
    "tags": []
   },
   "outputs": [
    {
     "name": "stdout",
     "output_type": "stream",
     "text": [
      "Qtde de treino: 37800\n",
      "Qtde de validação: 4200\n"
     ]
    }
   ],
   "source": [
    "# Separando uma parte para treino (90%) e outra para validação (10%)\n",
    "from sklearn.model_selection import train_test_split\n",
    "x_train, x_val, y_train, y_val = train_test_split(x, y, test_size = 0.1, random_state=9)\n",
    "print('Qtde de treino: {}'.format(len(x_train)))\n",
    "print('Qtde de validação: {}'.format(len(x_val)))"
   ]
  },
  {
   "cell_type": "markdown",
   "metadata": {
    "papermill": {
     "duration": 0.022902,
     "end_time": "2021-02-15T13:35:25.051896",
     "exception": false,
     "start_time": "2021-02-15T13:35:25.028994",
     "status": "completed"
    },
    "tags": []
   },
   "source": [
    "# Criando e treinando o Modelo"
   ]
  },
  {
   "cell_type": "code",
   "execution_count": 10,
   "metadata": {
    "ExecuteTime": {
     "end_time": "2019-01-08T21:38:00.233865Z",
     "start_time": "2019-01-08T21:38:00.15079Z"
    },
    "execution": {
     "iopub.execute_input": "2021-02-15T13:35:25.106725Z",
     "iopub.status.busy": "2021-02-15T13:35:25.106006Z",
     "iopub.status.idle": "2021-02-15T13:35:25.276419Z",
     "shell.execute_reply": "2021-02-15T13:35:25.276943Z"
    },
    "papermill": {
     "duration": 0.202441,
     "end_time": "2021-02-15T13:35:25.277131",
     "exception": false,
     "start_time": "2021-02-15T13:35:25.074690",
     "status": "completed"
    },
    "scrolled": true,
    "tags": []
   },
   "outputs": [
    {
     "name": "stdout",
     "output_type": "stream",
     "text": [
      "Model: \"sequential\"\n",
      "_________________________________________________________________\n",
      "Layer (type)                 Output Shape              Param #   \n",
      "=================================================================\n",
      "dense (Dense)                (None, 30)                23550     \n",
      "_________________________________________________________________\n",
      "dropout (Dropout)            (None, 30)                0         \n",
      "_________________________________________________________________\n",
      "dense_1 (Dense)              (None, 20)                620       \n",
      "_________________________________________________________________\n",
      "dropout_1 (Dropout)          (None, 20)                0         \n",
      "_________________________________________________________________\n",
      "dense_2 (Dense)              (None, 10)                210       \n",
      "=================================================================\n",
      "Total params: 24,380\n",
      "Trainable params: 24,380\n",
      "Non-trainable params: 0\n",
      "_________________________________________________________________\n"
     ]
    }
   ],
   "source": [
    "# Criando o modelo Sequential\n",
    "# Sequential: Modelo Keras de ir adicionando camadas (como um lego)\n",
    "# Dense: Camada onde todas as entradas estão conectadas em cada neurônio (totalmente conectada)\n",
    "# Dropout: Camada usa durante treino que descarta aleatoriamente um percentual de conexões (reduz overfitting)\n",
    "\n",
    "model = Sequential()\n",
    "# Camada com 30 neurônios\n",
    "model.add(Dense(30, activation='relu', input_shape=(784,)))\n",
    "# Dropout de 20%\n",
    "model.add(Dropout(0.2))\n",
    "# Camada de 20 neurônios\n",
    "model.add(Dense(20, activation='relu'))\n",
    "# Dropout de 20%\n",
    "model.add(Dropout(0.2))\n",
    "# Camda de classificação final, com 1 neurônio para cada classe de saída. Softmax divide a probabilidade de cada classe.\n",
    "model.add(Dense(num_classes, activation='softmax'))\n",
    "\n",
    "model.summary()"
   ]
  },
  {
   "cell_type": "code",
   "execution_count": 11,
   "metadata": {
    "ExecuteTime": {
     "end_time": "2019-01-08T21:33:17.184644Z",
     "start_time": "2019-01-08T21:33:17.129141Z"
    },
    "execution": {
     "iopub.execute_input": "2021-02-15T13:35:25.333883Z",
     "iopub.status.busy": "2021-02-15T13:35:25.331790Z",
     "iopub.status.idle": "2021-02-15T13:35:25.562285Z",
     "shell.execute_reply": "2021-02-15T13:35:25.561525Z"
    },
    "papermill": {
     "duration": 0.26146,
     "end_time": "2021-02-15T13:35:25.562441",
     "exception": false,
     "start_time": "2021-02-15T13:35:25.300981",
     "status": "completed"
    },
    "tags": []
   },
   "outputs": [],
   "source": [
    "# Compila o modelo\n",
    "model.compile(loss='categorical_crossentropy',\n",
    "              optimizer=RMSprop(),\n",
    "              metrics=['accuracy'])"
   ]
  },
  {
   "cell_type": "code",
   "execution_count": 12,
   "metadata": {
    "ExecuteTime": {
     "end_time": "2019-01-08T21:36:15.501168Z",
     "start_time": "2019-01-08T21:33:19.322895Z"
    },
    "execution": {
     "iopub.execute_input": "2021-02-15T13:35:25.619766Z",
     "iopub.status.busy": "2021-02-15T13:35:25.618903Z",
     "iopub.status.idle": "2021-02-15T13:36:47.035698Z",
     "shell.execute_reply": "2021-02-15T13:36:47.035026Z"
    },
    "papermill": {
     "duration": 81.449428,
     "end_time": "2021-02-15T13:36:47.035859",
     "exception": false,
     "start_time": "2021-02-15T13:35:25.586431",
     "status": "completed"
    },
    "tags": []
   },
   "outputs": [
    {
     "name": "stdout",
     "output_type": "stream",
     "text": [
      "Train on 37800 samples, validate on 4200 samples\n",
      "Epoch 1/30\n",
      "37800/37800 [==============================] - 4s 96us/sample - loss: 0.7873 - accuracy: 0.7478 - val_loss: 0.3348 - val_accuracy: 0.9031\n",
      "Epoch 2/30\n",
      "37800/37800 [==============================] - 3s 72us/sample - loss: 0.4541 - accuracy: 0.8650 - val_loss: 0.2461 - val_accuracy: 0.9302\n",
      "Epoch 3/30\n",
      "37800/37800 [==============================] - 3s 69us/sample - loss: 0.3916 - accuracy: 0.8880 - val_loss: 0.2282 - val_accuracy: 0.9371\n",
      "Epoch 4/30\n",
      "37800/37800 [==============================] - 3s 69us/sample - loss: 0.3508 - accuracy: 0.8990 - val_loss: 0.2241 - val_accuracy: 0.9381\n",
      "Epoch 5/30\n",
      "37800/37800 [==============================] - 3s 72us/sample - loss: 0.3352 - accuracy: 0.9060 - val_loss: 0.2080 - val_accuracy: 0.9450\n",
      "Epoch 6/30\n",
      "37800/37800 [==============================] - 3s 70us/sample - loss: 0.3276 - accuracy: 0.9107 - val_loss: 0.2132 - val_accuracy: 0.9417\n",
      "Epoch 7/30\n",
      "37800/37800 [==============================] - 3s 69us/sample - loss: 0.3190 - accuracy: 0.9143 - val_loss: 0.2067 - val_accuracy: 0.9452\n",
      "Epoch 8/30\n",
      "37800/37800 [==============================] - 3s 71us/sample - loss: 0.3089 - accuracy: 0.9157 - val_loss: 0.2044 - val_accuracy: 0.9490\n",
      "Epoch 9/30\n",
      "37800/37800 [==============================] - 3s 70us/sample - loss: 0.3021 - accuracy: 0.9183 - val_loss: 0.2078 - val_accuracy: 0.9490\n",
      "Epoch 10/30\n",
      "37800/37800 [==============================] - 3s 69us/sample - loss: 0.3010 - accuracy: 0.9181 - val_loss: 0.2064 - val_accuracy: 0.9483\n",
      "Epoch 11/30\n",
      "37800/37800 [==============================] - 3s 71us/sample - loss: 0.3067 - accuracy: 0.9183 - val_loss: 0.2083 - val_accuracy: 0.9512\n",
      "Epoch 12/30\n",
      "37800/37800 [==============================] - 3s 68us/sample - loss: 0.3041 - accuracy: 0.9196 - val_loss: 0.1997 - val_accuracy: 0.9490\n",
      "Epoch 13/30\n",
      "37800/37800 [==============================] - 3s 72us/sample - loss: 0.2913 - accuracy: 0.9223 - val_loss: 0.2152 - val_accuracy: 0.9498\n",
      "Epoch 14/30\n",
      "37800/37800 [==============================] - 3s 69us/sample - loss: 0.2939 - accuracy: 0.9230 - val_loss: 0.2155 - val_accuracy: 0.9521\n",
      "Epoch 15/30\n",
      "37800/37800 [==============================] - 3s 69us/sample - loss: 0.2916 - accuracy: 0.9240 - val_loss: 0.2134 - val_accuracy: 0.9510\n",
      "Epoch 16/30\n",
      "37800/37800 [==============================] - 3s 71us/sample - loss: 0.2957 - accuracy: 0.9229 - val_loss: 0.2113 - val_accuracy: 0.9536\n",
      "Epoch 17/30\n",
      "37800/37800 [==============================] - 3s 70us/sample - loss: 0.2957 - accuracy: 0.9240 - val_loss: 0.2095 - val_accuracy: 0.9521\n",
      "Epoch 18/30\n",
      "37800/37800 [==============================] - 3s 69us/sample - loss: 0.2872 - accuracy: 0.9251 - val_loss: 0.2132 - val_accuracy: 0.9519\n",
      "Epoch 19/30\n",
      "37800/37800 [==============================] - 3s 69us/sample - loss: 0.2885 - accuracy: 0.9253 - val_loss: 0.2193 - val_accuracy: 0.9490\n",
      "Epoch 20/30\n",
      "37800/37800 [==============================] - 3s 70us/sample - loss: 0.2892 - accuracy: 0.9247 - val_loss: 0.2212 - val_accuracy: 0.9507\n",
      "Epoch 21/30\n",
      "37800/37800 [==============================] - 3s 75us/sample - loss: 0.2892 - accuracy: 0.9261 - val_loss: 0.2284 - val_accuracy: 0.9510\n",
      "Epoch 22/30\n",
      "37800/37800 [==============================] - 3s 73us/sample - loss: 0.2967 - accuracy: 0.9254 - val_loss: 0.2106 - val_accuracy: 0.9524\n",
      "Epoch 23/30\n",
      "37800/37800 [==============================] - 3s 74us/sample - loss: 0.2963 - accuracy: 0.9262 - val_loss: 0.2186 - val_accuracy: 0.9519\n",
      "Epoch 24/30\n",
      "37800/37800 [==============================] - 3s 71us/sample - loss: 0.2956 - accuracy: 0.9256 - val_loss: 0.2132 - val_accuracy: 0.9512\n",
      "Epoch 25/30\n",
      "37800/37800 [==============================] - 3s 73us/sample - loss: 0.2915 - accuracy: 0.9276 - val_loss: 0.2390 - val_accuracy: 0.9529\n",
      "Epoch 26/30\n",
      "37800/37800 [==============================] - 3s 70us/sample - loss: 0.2947 - accuracy: 0.9260 - val_loss: 0.2240 - val_accuracy: 0.9507\n",
      "Epoch 27/30\n",
      "37800/37800 [==============================] - 3s 72us/sample - loss: 0.2887 - accuracy: 0.9268 - val_loss: 0.2287 - val_accuracy: 0.9490\n",
      "Epoch 28/30\n",
      "37800/37800 [==============================] - 3s 70us/sample - loss: 0.2938 - accuracy: 0.9262 - val_loss: 0.2289 - val_accuracy: 0.9536\n",
      "Epoch 29/30\n",
      "37800/37800 [==============================] - 3s 72us/sample - loss: 0.2887 - accuracy: 0.9287 - val_loss: 0.2301 - val_accuracy: 0.9540\n",
      "Epoch 30/30\n",
      "37800/37800 [==============================] - 3s 69us/sample - loss: 0.2949 - accuracy: 0.9268 - val_loss: 0.2366 - val_accuracy: 0.9502\n"
     ]
    }
   ],
   "source": [
    "# Treina com os parte dos dados\n",
    "batch_size = 32\n",
    "epochs = 30\n",
    "history = model.fit(x_train, y_train,\n",
    "                    batch_size=batch_size,\n",
    "                    epochs=epochs,\n",
    "                    verbose=1,\n",
    "                    validation_data=(x_val, y_val))"
   ]
  },
  {
   "cell_type": "code",
   "execution_count": 13,
   "metadata": {
    "ExecuteTime": {
     "end_time": "2019-01-08T21:36:20.243921Z",
     "start_time": "2019-01-08T21:36:20.064201Z"
    },
    "execution": {
     "iopub.execute_input": "2021-02-15T13:36:48.113738Z",
     "iopub.status.busy": "2021-02-15T13:36:48.112291Z",
     "iopub.status.idle": "2021-02-15T13:36:48.432217Z",
     "shell.execute_reply": "2021-02-15T13:36:48.431656Z"
    },
    "papermill": {
     "duration": 0.865329,
     "end_time": "2021-02-15T13:36:48.432378",
     "exception": false,
     "start_time": "2021-02-15T13:36:47.567049",
     "status": "completed"
    },
    "tags": []
   },
   "outputs": [
    {
     "data": {
      "image/png": "[encoded data removed]",
      "text/plain": [
       "<Figure size 1152x576 with 2 Axes>"
      ]
     },
     "metadata": {
      "needs_background": "light"
     },
     "output_type": "display_data"
    }
   ],
   "source": [
    "#Vamos ver como foi o treino?\n",
    "\n",
    "fig, ax = plt.subplots(1,2, figsize=(16,8))\n",
    "ax[0].plot(history.history['loss'], color='b', label=\"Training loss\")\n",
    "ax[0].plot(history.history['val_loss'], color='r', label=\"validation loss\",axes =ax[0])\n",
    "legend = ax[0].legend(loc='best', shadow=True)\n",
    "\n",
    "ax[1].plot(history.history['accuracy'], color='b', label=\"Training accuracy\")\n",
    "ax[1].plot(history.history['val_accuracy'], color='r',label=\"Validation accuracy\")\n",
    "legend = ax[1].legend(loc='best', shadow=True)"
   ]
  },
  {
   "cell_type": "code",
   "execution_count": 14,
   "metadata": {
    "ExecuteTime": {
     "end_time": "2019-01-08T21:36:39.779842Z",
     "start_time": "2019-01-08T21:36:38.946173Z"
    },
    "execution": {
     "iopub.execute_input": "2021-02-15T13:36:49.495696Z",
     "iopub.status.busy": "2021-02-15T13:36:49.493401Z",
     "iopub.status.idle": "2021-02-15T13:36:49.676290Z",
     "shell.execute_reply": "2021-02-15T13:36:49.675505Z"
    },
    "papermill": {
     "duration": 0.714357,
     "end_time": "2021-02-15T13:36:49.676444",
     "exception": false,
     "start_time": "2021-02-15T13:36:48.962087",
     "status": "completed"
    },
    "tags": []
   },
   "outputs": [
    {
     "name": "stdout",
     "output_type": "stream",
     "text": [
      "Test loss: 0.23659028276490668\n",
      "Test accuracy: 0.9502381\n"
     ]
    }
   ],
   "source": [
    "# Testa\n",
    "score = model.evaluate(x_val, y_val, verbose=0)\n",
    "print('Test loss:', score[0])\n",
    "print('Test accuracy:', score[1])"
   ]
  },
  {
   "cell_type": "code",
   "execution_count": 15,
   "metadata": {
    "execution": {
     "iopub.execute_input": "2021-02-15T13:36:50.739651Z",
     "iopub.status.busy": "2021-02-15T13:36:50.738751Z",
     "iopub.status.idle": "2021-02-15T13:36:50.743698Z",
     "shell.execute_reply": "2021-02-15T13:36:50.743127Z"
    },
    "papermill": {
     "duration": 0.53579,
     "end_time": "2021-02-15T13:36:50.743826",
     "exception": false,
     "start_time": "2021-02-15T13:36:50.208036",
     "status": "completed"
    },
    "tags": []
   },
   "outputs": [
    {
     "data": {
      "text/plain": [
       "8"
      ]
     },
     "execution_count": 15,
     "metadata": {},
     "output_type": "execute_result"
    }
   ],
   "source": [
    "Y[10]"
   ]
  },
  {
   "cell_type": "code",
   "execution_count": 16,
   "metadata": {
    "ExecuteTime": {
     "end_time": "2019-01-08T21:06:04.363715Z",
     "start_time": "2019-01-08T21:06:04.27849Z"
    },
    "execution": {
     "iopub.execute_input": "2021-02-15T13:36:51.883426Z",
     "iopub.status.busy": "2021-02-15T13:36:51.882671Z",
     "iopub.status.idle": "2021-02-15T13:36:51.968558Z",
     "shell.execute_reply": "2021-02-15T13:36:51.969127Z"
    },
    "papermill": {
     "duration": 0.627297,
     "end_time": "2021-02-15T13:36:51.969316",
     "exception": false,
     "start_time": "2021-02-15T13:36:51.342019",
     "status": "completed"
    },
    "tags": []
   },
   "outputs": [
    {
     "name": "stdout",
     "output_type": "stream",
     "text": [
      "[0. 0. 0. 1. 0. 0. 0. 0. 0. 0.]\n",
      "[[0.0000000e+00 3.6015796e-37 3.2023685e-23 1.0000000e+00 0.0000000e+00\n",
      "  6.8763428e-12 0.0000000e+00 8.7955678e-30 4.2631674e-22 6.7961283e-19]]\n",
      "[3]\n"
     ]
    }
   ],
   "source": [
    "# Testando uma entrada qualquer\n",
    "print(y_train[10])\n",
    "print(model.predict(x_train[10].reshape((1,784))))\n",
    "print(model.predict_classes(x_train[10].reshape((1,784))))"
   ]
  },
  {
   "cell_type": "markdown",
   "metadata": {
    "papermill": {
     "duration": 0.528003,
     "end_time": "2021-02-15T13:36:53.025848",
     "exception": false,
     "start_time": "2021-02-15T13:36:52.497845",
     "status": "completed"
    },
    "tags": []
   },
   "source": [
    "# Avaliando o Modelo"
   ]
  },
  {
   "cell_type": "code",
   "execution_count": 17,
   "metadata": {
    "execution": {
     "iopub.execute_input": "2021-02-15T13:36:54.115537Z",
     "iopub.status.busy": "2021-02-15T13:36:54.114809Z",
     "iopub.status.idle": "2021-02-15T13:36:54.135053Z",
     "shell.execute_reply": "2021-02-15T13:36:54.135667Z"
    },
    "papermill": {
     "duration": 0.579378,
     "end_time": "2021-02-15T13:36:54.135993",
     "exception": false,
     "start_time": "2021-02-15T13:36:53.556615",
     "status": "completed"
    },
    "tags": []
   },
   "outputs": [],
   "source": [
    "import itertools\n",
    "#Plot the confusion matrix. Set Normalize = True/False\n",
    "def plot_confusion_matrix(cm, classes, normalize=True, title='Confusion matrix', cmap=plt.cm.Blues):\n",
    "    \"\"\"\n",
    "    This function prints and plots the confusion matrix.\n",
    "    Normalization can be applied by setting `normalize=True`.\n",
    "    \"\"\"\n",
    "    plt.figure(figsize=(10,10))\n",
    "    plt.imshow(cm, interpolation='nearest', cmap=cmap)\n",
    "    plt.title(title)\n",
    "    plt.colorbar()\n",
    "    tick_marks = np.arange(len(classes))\n",
    "    plt.xticks(tick_marks, classes, rotation=45)\n",
    "    plt.yticks(tick_marks, classes)\n",
    "    if normalize:\n",
    "        cm = cm.astype('float') / cm.sum(axis=1)[:, np.newaxis]\n",
    "        cm = np.around(cm, decimals=2)\n",
    "        cm[np.isnan(cm)] = 0.0\n",
    "    thresh = cm.max() / 2.\n",
    "    for i, j in itertools.product(range(cm.shape[0]), range(cm.shape[1])):\n",
    "        plt.text(j, i, cm[i, j],\n",
    "                 horizontalalignment=\"center\",\n",
    "                 color=\"white\" if cm[i, j] > thresh else \"black\")\n",
    "    plt.tight_layout()\n",
    "    plt.ylabel('True label')\n",
    "    plt.xlabel('Predicted label')"
   ]
  },
  {
   "cell_type": "code",
   "execution_count": 18,
   "metadata": {
    "ExecuteTime": {
     "end_time": "2019-01-08T21:24:57.7654Z",
     "start_time": "2019-01-08T21:24:57.220867Z"
    },
    "execution": {
     "iopub.execute_input": "2021-02-15T13:36:55.248068Z",
     "iopub.status.busy": "2021-02-15T13:36:55.246932Z",
     "iopub.status.idle": "2021-02-15T13:36:56.056090Z",
     "shell.execute_reply": "2021-02-15T13:36:56.056634Z"
    },
    "papermill": {
     "duration": 1.375845,
     "end_time": "2021-02-15T13:36:56.056800",
     "exception": false,
     "start_time": "2021-02-15T13:36:54.680955",
     "status": "completed"
    },
    "tags": []
   },
   "outputs": [
    {
     "name": "stdout",
     "output_type": "stream",
     "text": [
      "Classification Report\n",
      "              precision    recall  f1-score   support\n",
      "\n",
      "           0       0.97      0.98      0.98       396\n",
      "           1       0.96      0.99      0.98       488\n",
      "           2       0.97      0.94      0.96       395\n",
      "           3       0.97      0.93      0.95       445\n",
      "           4       0.94      0.96      0.95       441\n",
      "           5       0.92      0.95      0.93       384\n",
      "           6       0.97      0.95      0.96       398\n",
      "           7       0.97      0.92      0.94       428\n",
      "           8       0.96      0.93      0.95       416\n",
      "           9       0.88      0.95      0.91       409\n",
      "\n",
      "    accuracy                           0.95      4200\n",
      "   macro avg       0.95      0.95      0.95      4200\n",
      "weighted avg       0.95      0.95      0.95      4200\n",
      "\n"
     ]
    },
    {
     "data": {
      "image/png": "[encoded data removed]",
      "text/plain": [
       "<Figure size 720x720 with 2 Axes>"
      ]
     },
     "metadata": {
      "needs_background": "light"
     },
     "output_type": "display_data"
    }
   ],
   "source": [
    "# Vendo alguns reports\n",
    "# Usando sklearn\n",
    "import numpy as np\n",
    "\n",
    "# Classificando toda base de teste\n",
    "y_pred = model.predict_classes(x_val)\n",
    "# voltando pro formato de classes\n",
    "y_test_c = np.argmax(y_val, axis=1)\n",
    "target_names = ['0', '1', '2', '3', '4', '5', '6', '7', '8', '9']\n",
    "\n",
    "#Confution Matrix\n",
    "cm = confusion_matrix(y_test_c, y_pred)\n",
    "plot_confusion_matrix(cm, target_names, normalize=False, title='Confusion Matrix')\n",
    "\n",
    "print('Classification Report')\n",
    "print(classification_report(y_test_c, y_pred, target_names=target_names))"
   ]
  },
  {
   "cell_type": "markdown",
   "metadata": {
    "papermill": {
     "duration": 0.532738,
     "end_time": "2021-02-15T13:36:57.119106",
     "exception": false,
     "start_time": "2021-02-15T13:36:56.586368",
     "status": "completed"
    },
    "tags": []
   },
   "source": [
    "# Gerando Saída"
   ]
  },
  {
   "cell_type": "code",
   "execution_count": 19,
   "metadata": {
    "execution": {
     "iopub.execute_input": "2021-02-15T13:36:58.198295Z",
     "iopub.status.busy": "2021-02-15T13:36:58.197572Z",
     "iopub.status.idle": "2021-02-15T13:37:01.937211Z",
     "shell.execute_reply": "2021-02-15T13:37:01.936579Z"
    },
    "papermill": {
     "duration": 4.28814,
     "end_time": "2021-02-15T13:37:01.937379",
     "exception": false,
     "start_time": "2021-02-15T13:36:57.649239",
     "status": "completed"
    },
    "tags": []
   },
   "outputs": [
    {
     "name": "stdout",
     "output_type": "stream",
     "text": [
      "Qtde de testes: 28000\n"
     ]
    },
    {
     "data": {
      "image/png": "[encoded data removed]",
      "text/plain": [
       "<Figure size 432x288 with 1 Axes>"
      ]
     },
     "metadata": {
      "needs_background": "light"
     },
     "output_type": "display_data"
    },
    {
     "name": "stdout",
     "output_type": "stream",
     "text": [
      "Previsto: 2\n",
      "   ImageId  Label\n",
      "0        1      2\n",
      "1        2      0\n",
      "2        3      9\n",
      "3        4      9\n",
      "4        5      3\n",
      "5        6      9\n",
      "6        7      0\n",
      "7        8      3\n",
      "8        9      0\n",
      "9       10      3\n"
     ]
    }
   ],
   "source": [
    "# Gerando saída para dataset de teste\n",
    "\n",
    "#Carrega dataset de teste\n",
    "test = pd.read_csv(\"../input/digit-recognizer/test.csv\")\n",
    "print(\"Qtde de testes: {}\".format(len(test)))\n",
    "# Bota no formato numpy e normaliza\n",
    "x_test = test.values.reshape(len(test),784)\n",
    "x_test = x_test.astype('float32')\n",
    "x_test /= 255\n",
    "\n",
    "# Faz classificação para dataset de teste\n",
    "y_pred = model.predict_classes(x_test)\n",
    "\n",
    "# Verficando algum exemplo\n",
    "i = 0\n",
    "plt.imshow(test.values[i].reshape(28,28), cmap=plt.cm.binary)\n",
    "plt.show()\n",
    "print('Previsto: {}'.format(y_pred[i]))\n",
    "\n",
    "# Botando no formato de saída (competição Kaggle)\n",
    "results = pd.Series(y_pred,name=\"Label\")\n",
    "submission = pd.concat([pd.Series(range(1,len(y_pred)+1),name = \"ImageId\"),results],axis = 1)\n",
    "print(submission.head(10))\n",
    "#Salvando Arquivo\n",
    "submission.to_csv(\"mlp_mnist_v1.csv\",index=False)"
   ]
  },
  {
   "cell_type": "markdown",
   "metadata": {
    "papermill": {
     "duration": 0.537498,
     "end_time": "2021-02-15T13:37:03.012270",
     "exception": false,
     "start_time": "2021-02-15T13:37:02.474772",
     "status": "completed"
    },
    "tags": []
   },
   "source": [
    "# Teste Adicional: Com ruído"
   ]
  },
  {
   "cell_type": "code",
   "execution_count": 20,
   "metadata": {
    "execution": {
     "iopub.execute_input": "2021-02-15T13:37:04.096228Z",
     "iopub.status.busy": "2021-02-15T13:37:04.095316Z",
     "iopub.status.idle": "2021-02-15T13:37:04.724733Z",
     "shell.execute_reply": "2021-02-15T13:37:04.723947Z"
    },
    "papermill": {
     "duration": 1.178506,
     "end_time": "2021-02-15T13:37:04.724882",
     "exception": false,
     "start_time": "2021-02-15T13:37:03.546376",
     "status": "completed"
    },
    "tags": []
   },
   "outputs": [
    {
     "data": {
      "image/png": "[encoded data removed]",
      "text/plain": [
       "<Figure size 432x288 with 1 Axes>"
      ]
     },
     "metadata": {
      "needs_background": "light"
     },
     "output_type": "display_data"
    },
    {
     "name": "stdout",
     "output_type": "stream",
     "text": [
      "Test loss: 3.7471298926217216\n",
      "Test accuracy: 0.6938095\n"
     ]
    }
   ],
   "source": [
    "#introduzindo ruido\n",
    "import numpy as np\n",
    "mean = 0.\n",
    "stddev = 0.2\n",
    "noise = np.random.normal(mean, stddev, (4200, 784))\n",
    "x_te = x_val + noise\n",
    "x_te = np.clip(x_te, 0., 1.)\n",
    "\n",
    "plt.imshow(x_te.reshape(4200, 28,28)[0], cmap=plt.cm.binary)\n",
    "plt.show()\n",
    "\n",
    "# Testa\n",
    "score = model.evaluate(x_te, y_val, verbose=0)\n",
    "print('Test loss:', score[0])\n",
    "print('Test accuracy:', score[1])"
   ]
  },
  {
   "cell_type": "markdown",
   "metadata": {
    "papermill": {
     "duration": 0.538028,
     "end_time": "2021-02-15T13:37:05.804010",
     "exception": false,
     "start_time": "2021-02-15T13:37:05.265982",
     "status": "completed"
    },
    "tags": []
   },
   "source": [
    "Com ruído, percebemos que a acurácia dos exemplos de validação caiu muito. \n",
    "Uma MLP aprende a partir de pixels individuais.\n",
    "Um modelo Convolucional (CNN) captura melhor regiões, ou padrões espaciais de pixels.\n",
    "Veja o exemplo com CNN."
   ]
  },
  {
   "cell_type": "code",
   "execution_count": null,
   "metadata": {
    "papermill": {
     "duration": 0.538207,
     "end_time": "2021-02-15T13:37:06.924808",
     "exception": false,
     "start_time": "2021-02-15T13:37:06.386601",
     "status": "completed"
    },
    "tags": []
   },
   "outputs": [],
   "source": []
  }
 ],
 "metadata": {
  "kernelspec": {
   "display_name": "Python 3",
   "language": "python",
   "name": "python3"
  },
  "language_info": {
   "codemirror_mode": {
    "name": "ipython",
    "version": 3
   },
   "file_extension": ".py",
   "mimetype": "text/x-python",
   "name": "python",
   "nbconvert_exporter": "python",
   "pygments_lexer": "ipython3",
   "version": "3.7.6"
  },
  "papermill": {
   "duration": 119.51477,
   "end_time": "2021-02-15T13:37:07.568829",
   "environment_variables": {},
   "exception": null,
   "input_path": "__notebook__.ipynb",
   "output_path": "__notebook__.ipynb",
   "parameters": {},
   "start_time": "2021-02-15T13:35:08.054059",
   "version": "2.1.0"
  }
 },
 "nbformat": 4,
 "nbformat_minor": 4
}
