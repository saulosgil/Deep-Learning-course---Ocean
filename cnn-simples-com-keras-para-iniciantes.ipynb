{
 "cells": [
  {
   "cell_type": "markdown",
   "metadata": {
    "papermill": {
     "duration": 0.02067,
     "end_time": "2021-02-15T13:53:54.650474",
     "exception": false,
     "start_time": "2021-02-15T13:53:54.629804",
     "status": "completed"
    },
    "tags": []
   },
   "source": [
    "# Introdução"
   ]
  },
  {
   "cell_type": "markdown",
   "metadata": {
    "papermill": {
     "duration": 0.018509,
     "end_time": "2021-02-15T13:53:54.688497",
     "exception": false,
     "start_time": "2021-02-15T13:53:54.669988",
     "status": "completed"
    },
    "tags": []
   },
   "source": [
    "**Resumo:**\n",
    "\n",
    "O exemplo aqui desenvolvido tem como objetivo apresentar conceitos iniciais de implementação de redes neurais com python e tensorflow/keras. Esse modelo apresenta um modelo de Rede Neural Convolucional (CNN) básico que pode ser expandido mudando o número de neurônios e camadas. Em adaptações mais avançadas, pode-se estudar possibilidade de otimização de hyperparâmetros e outras técnincas como aumento de dados.\n",
    "\n",
    "**Não é objetivo nosso desenvolver e otimizar o modelo de classificação**. O exemplo tem objetivo meramente didático.\n",
    "\n",
    "---\n",
    "\n",
    "**Para saber mais:**\n",
    "* [Palestras e cursos do Ocean](http://www.oceanbrasil.com/)\n",
    "* François Chollet. Deep Learning with Python. Manning Publications, 2017.\n",
    "* Ian Goodfellow and Yoshua Bengio and Aaron Courville. [Deep Learning](https://www.deeplearningbook.org/). MIT Press, 2016."
   ]
  },
  {
   "cell_type": "markdown",
   "metadata": {
    "papermill": {
     "duration": 0.017625,
     "end_time": "2021-02-15T13:53:54.724935",
     "exception": false,
     "start_time": "2021-02-15T13:53:54.707310",
     "status": "completed"
    },
    "tags": []
   },
   "source": [
    "# Bibliotecas e Dados"
   ]
  },
  {
   "cell_type": "code",
   "execution_count": 1,
   "metadata": {
    "ExecuteTime": {
     "end_time": "2019-01-16T20:39:41.500258Z",
     "start_time": "2019-01-16T20:39:39.261856Z"
    },
    "execution": {
     "iopub.execute_input": "2021-02-15T13:53:54.772820Z",
     "iopub.status.busy": "2021-02-15T13:53:54.772017Z",
     "iopub.status.idle": "2021-02-15T13:54:00.965132Z",
     "shell.execute_reply": "2021-02-15T13:54:00.964004Z"
    },
    "papermill": {
     "duration": 6.221634,
     "end_time": "2021-02-15T13:54:00.965259",
     "exception": false,
     "start_time": "2021-02-15T13:53:54.743625",
     "status": "completed"
    },
    "tags": []
   },
   "outputs": [],
   "source": [
    "# Bibliotecas necessárias\n",
    "# Manipulação de dados\n",
    "import pandas as pd\n",
    "# Redes Neurais\n",
    "from tensorflow import keras\n",
    "from tensorflow.keras.datasets import mnist\n",
    "from tensorflow.keras.models import Sequential\n",
    "from tensorflow.keras.layers import Dense, Dropout, Conv2D, MaxPooling2D, Flatten\n",
    "from tensorflow.keras.optimizers import RMSprop\n",
    "# Plot\n",
    "import matplotlib.pyplot as plt\n",
    "%matplotlib inline\n",
    "# Avaliação\n",
    "from sklearn.metrics import classification_report, confusion_matrix\n"
   ]
  },
  {
   "cell_type": "code",
   "execution_count": 2,
   "metadata": {
    "execution": {
     "iopub.execute_input": "2021-02-15T13:54:01.035640Z",
     "iopub.status.busy": "2021-02-15T13:54:01.034669Z",
     "iopub.status.idle": "2021-02-15T13:54:05.088406Z",
     "shell.execute_reply": "2021-02-15T13:54:05.087160Z"
    },
    "papermill": {
     "duration": 4.091098,
     "end_time": "2021-02-15T13:54:05.088536",
     "exception": false,
     "start_time": "2021-02-15T13:54:00.997438",
     "status": "completed"
    },
    "tags": []
   },
   "outputs": [],
   "source": [
    "# Lendo o dataset Kaggle\n",
    "train = pd.read_csv(\"../input/digit-recognizer/train.csv\")\n",
    "\n",
    "#Alternativa ler do próprio keras\n",
    "#(x_train, y_train), (x_test, y_test) = mnist.load_data()\n"
   ]
  },
  {
   "cell_type": "code",
   "execution_count": 3,
   "metadata": {
    "execution": {
     "iopub.execute_input": "2021-02-15T13:54:05.146765Z",
     "iopub.status.busy": "2021-02-15T13:54:05.145901Z",
     "iopub.status.idle": "2021-02-15T13:54:05.152034Z",
     "shell.execute_reply": "2021-02-15T13:54:05.151493Z"
    },
    "papermill": {
     "duration": 0.042348,
     "end_time": "2021-02-15T13:54:05.152142",
     "exception": false,
     "start_time": "2021-02-15T13:54:05.109794",
     "status": "completed"
    },
    "tags": []
   },
   "outputs": [
    {
     "name": "stdout",
     "output_type": "stream",
     "text": [
      "Quantidade de elementos de treino: 42000\n",
      "   label  pixel0  pixel1  pixel2  pixel3  pixel4  pixel5  pixel6  pixel7  \\\n",
      "0      1       0       0       0       0       0       0       0       0   \n",
      "1      0       0       0       0       0       0       0       0       0   \n",
      "2      1       0       0       0       0       0       0       0       0   \n",
      "3      4       0       0       0       0       0       0       0       0   \n",
      "4      0       0       0       0       0       0       0       0       0   \n",
      "\n",
      "   pixel8  ...  pixel774  pixel775  pixel776  pixel777  pixel778  pixel779  \\\n",
      "0       0  ...         0         0         0         0         0         0   \n",
      "1       0  ...         0         0         0         0         0         0   \n",
      "2       0  ...         0         0         0         0         0         0   \n",
      "3       0  ...         0         0         0         0         0         0   \n",
      "4       0  ...         0         0         0         0         0         0   \n",
      "\n",
      "   pixel780  pixel781  pixel782  pixel783  \n",
      "0         0         0         0         0  \n",
      "1         0         0         0         0  \n",
      "2         0         0         0         0  \n",
      "3         0         0         0         0  \n",
      "4         0         0         0         0  \n",
      "\n",
      "[5 rows x 785 columns]\n"
     ]
    }
   ],
   "source": [
    "# Analisando o dataset\n",
    "print(\"Quantidade de elementos de treino: {}\". format(len(train)))\n",
    "print(train.head())"
   ]
  },
  {
   "cell_type": "code",
   "execution_count": 4,
   "metadata": {
    "execution": {
     "iopub.execute_input": "2021-02-15T13:54:05.295155Z",
     "iopub.status.busy": "2021-02-15T13:54:05.294185Z",
     "iopub.status.idle": "2021-02-15T13:54:05.298698Z",
     "shell.execute_reply": "2021-02-15T13:54:05.299322Z"
    },
    "papermill": {
     "duration": 0.126463,
     "end_time": "2021-02-15T13:54:05.299472",
     "exception": false,
     "start_time": "2021-02-15T13:54:05.173009",
     "status": "completed"
    },
    "tags": []
   },
   "outputs": [
    {
     "name": "stdout",
     "output_type": "stream",
     "text": [
      "   pixel0  pixel1  pixel2  pixel3  pixel4  pixel5  pixel6  pixel7  pixel8  \\\n",
      "0       0       0       0       0       0       0       0       0       0   \n",
      "1       0       0       0       0       0       0       0       0       0   \n",
      "2       0       0       0       0       0       0       0       0       0   \n",
      "3       0       0       0       0       0       0       0       0       0   \n",
      "4       0       0       0       0       0       0       0       0       0   \n",
      "\n",
      "   pixel9  ...  pixel774  pixel775  pixel776  pixel777  pixel778  pixel779  \\\n",
      "0       0  ...         0         0         0         0         0         0   \n",
      "1       0  ...         0         0         0         0         0         0   \n",
      "2       0  ...         0         0         0         0         0         0   \n",
      "3       0  ...         0         0         0         0         0         0   \n",
      "4       0  ...         0         0         0         0         0         0   \n",
      "\n",
      "   pixel780  pixel781  pixel782  pixel783  \n",
      "0         0         0         0         0  \n",
      "1         0         0         0         0  \n",
      "2         0         0         0         0  \n",
      "3         0         0         0         0  \n",
      "4         0         0         0         0  \n",
      "\n",
      "[5 rows x 784 columns]\n"
     ]
    }
   ],
   "source": [
    "# Separando x_train e y_train\n",
    "Y = train[\"label\"]\n",
    "X = train.drop(labels = [\"label\"],axis = 1)\n",
    "print(X.head())\n",
    "# Em formato numpy array de imagens 28 x 28\n",
    "#x = X.values.reshape(-1,28,28,1)\n",
    "#print(x[0])"
   ]
  },
  {
   "cell_type": "code",
   "execution_count": 5,
   "metadata": {
    "execution": {
     "iopub.execute_input": "2021-02-15T13:54:05.349923Z",
     "iopub.status.busy": "2021-02-15T13:54:05.349048Z",
     "iopub.status.idle": "2021-02-15T13:54:05.353692Z",
     "shell.execute_reply": "2021-02-15T13:54:05.353071Z"
    },
    "papermill": {
     "duration": 0.031867,
     "end_time": "2021-02-15T13:54:05.353812",
     "exception": false,
     "start_time": "2021-02-15T13:54:05.321945",
     "status": "completed"
    },
    "tags": []
   },
   "outputs": [
    {
     "name": "stdout",
     "output_type": "stream",
     "text": [
      "(42000, 784)\n"
     ]
    }
   ],
   "source": [
    "print(X.shape)"
   ]
  },
  {
   "cell_type": "code",
   "execution_count": 6,
   "metadata": {
    "ExecuteTime": {
     "end_time": "2019-01-08T20:49:47.144492Z",
     "start_time": "2019-01-08T20:49:47.016025Z"
    },
    "execution": {
     "iopub.execute_input": "2021-02-15T13:54:05.407649Z",
     "iopub.status.busy": "2021-02-15T13:54:05.406946Z",
     "iopub.status.idle": "2021-02-15T13:54:05.606712Z",
     "shell.execute_reply": "2021-02-15T13:54:05.605916Z"
    },
    "papermill": {
     "duration": 0.229373,
     "end_time": "2021-02-15T13:54:05.606856",
     "exception": false,
     "start_time": "2021-02-15T13:54:05.377483",
     "status": "completed"
    },
    "tags": []
   },
   "outputs": [
    {
     "data": {
      "image/png": "[encoded data removed]",
      "text/plain": [
       "<Figure size 432x288 with 1 Axes>"
      ]
     },
     "metadata": {
      "needs_background": "light"
     },
     "output_type": "display_data"
    },
    {
     "name": "stdout",
     "output_type": "stream",
     "text": [
      "Label: 1\n"
     ]
    }
   ],
   "source": [
    "# Numtendi nada!\n",
    "# Bora ver com matplotlib\n",
    "plt.imshow(X.values[0].reshape(28,28), cmap=plt.cm.binary)\n",
    "plt.show()\n",
    "print('Label: {}'.format(Y[0]))"
   ]
  },
  {
   "cell_type": "code",
   "execution_count": 7,
   "metadata": {
    "ExecuteTime": {
     "end_time": "2019-01-08T20:49:57.425537Z",
     "start_time": "2019-01-08T20:49:57.272377Z"
    },
    "execution": {
     "iopub.execute_input": "2021-02-15T13:54:05.659391Z",
     "iopub.status.busy": "2021-02-15T13:54:05.658297Z",
     "iopub.status.idle": "2021-02-15T13:54:05.734458Z",
     "shell.execute_reply": "2021-02-15T13:54:05.733785Z"
    },
    "papermill": {
     "duration": 0.104021,
     "end_time": "2021-02-15T13:54:05.734589",
     "exception": false,
     "start_time": "2021-02-15T13:54:05.630568",
     "status": "completed"
    },
    "tags": []
   },
   "outputs": [],
   "source": [
    "# Transformando a imagem 2d em um numpy array (imagem 28*28)\n",
    "x = X.values.reshape(42000, 28, 28, 1)\n",
    "\n",
    "#Normalizando para valores entre 0 e 1\n",
    "x = x.astype('float32')\n",
    "x /= 255\n",
    "\n",
    "#print(x[0])"
   ]
  },
  {
   "cell_type": "code",
   "execution_count": 8,
   "metadata": {
    "ExecuteTime": {
     "end_time": "2019-01-08T20:50:48.007428Z",
     "start_time": "2019-01-08T20:50:47.986527Z"
    },
    "execution": {
     "iopub.execute_input": "2021-02-15T13:54:05.787541Z",
     "iopub.status.busy": "2021-02-15T13:54:05.785355Z",
     "iopub.status.idle": "2021-02-15T13:54:05.790937Z",
     "shell.execute_reply": "2021-02-15T13:54:05.791871Z"
    },
    "papermill": {
     "duration": 0.034126,
     "end_time": "2021-02-15T13:54:05.792046",
     "exception": false,
     "start_time": "2021-02-15T13:54:05.757920",
     "status": "completed"
    },
    "tags": []
   },
   "outputs": [
    {
     "name": "stdout",
     "output_type": "stream",
     "text": [
      "[0. 1. 0. 0. 0. 0. 0. 0. 0. 0.]\n"
     ]
    }
   ],
   "source": [
    "# Vamos ajustar o formato da saida\n",
    "num_classes = 10\n",
    "\n",
    "# Convertendo para um vetor de saida com 10 dimensoes\n",
    "# ex. 8 => [0,0,0,0,0,0,0,0,1,0]\n",
    "y = keras.utils.to_categorical(Y, num_classes)\n",
    "print(y[0])"
   ]
  },
  {
   "cell_type": "code",
   "execution_count": 9,
   "metadata": {
    "execution": {
     "iopub.execute_input": "2021-02-15T13:54:05.845399Z",
     "iopub.status.busy": "2021-02-15T13:54:05.844546Z",
     "iopub.status.idle": "2021-02-15T13:54:06.182585Z",
     "shell.execute_reply": "2021-02-15T13:54:06.183372Z"
    },
    "papermill": {
     "duration": 0.367411,
     "end_time": "2021-02-15T13:54:06.183568",
     "exception": false,
     "start_time": "2021-02-15T13:54:05.816157",
     "status": "completed"
    },
    "tags": []
   },
   "outputs": [
    {
     "name": "stdout",
     "output_type": "stream",
     "text": [
      "Qtde de treino: 37800\n",
      "Qtde de validação: 4200\n"
     ]
    }
   ],
   "source": [
    "# Separando uma parte para treino (90%) e outra para validação (10%)\n",
    "from sklearn.model_selection import train_test_split\n",
    "x_train, x_val, y_train, y_val = train_test_split(x, y, test_size = 0.1, random_state=5)\n",
    "print('Qtde de treino: {}'.format(len(x_train)))\n",
    "print('Qtde de validação: {}'.format(len(x_val)))"
   ]
  },
  {
   "cell_type": "markdown",
   "metadata": {
    "papermill": {
     "duration": 0.025904,
     "end_time": "2021-02-15T13:54:06.235676",
     "exception": false,
     "start_time": "2021-02-15T13:54:06.209772",
     "status": "completed"
    },
    "tags": []
   },
   "source": [
    "# Criando e treinando o Modelo"
   ]
  },
  {
   "cell_type": "code",
   "execution_count": 10,
   "metadata": {
    "ExecuteTime": {
     "end_time": "2019-01-08T21:38:00.233865Z",
     "start_time": "2019-01-08T21:38:00.15079Z"
    },
    "execution": {
     "iopub.execute_input": "2021-02-15T13:54:06.293801Z",
     "iopub.status.busy": "2021-02-15T13:54:06.293084Z",
     "iopub.status.idle": "2021-02-15T13:54:09.190455Z",
     "shell.execute_reply": "2021-02-15T13:54:09.189593Z"
    },
    "papermill": {
     "duration": 2.929443,
     "end_time": "2021-02-15T13:54:09.190608",
     "exception": false,
     "start_time": "2021-02-15T13:54:06.261165",
     "status": "completed"
    },
    "scrolled": true,
    "tags": []
   },
   "outputs": [
    {
     "name": "stdout",
     "output_type": "stream",
     "text": [
      "Model: \"sequential\"\n",
      "_________________________________________________________________\n",
      "Layer (type)                 Output Shape              Param #   \n",
      "=================================================================\n",
      "conv2d (Conv2D)              (None, 26, 26, 20)        200       \n",
      "_________________________________________________________________\n",
      "max_pooling2d (MaxPooling2D) (None, 13, 13, 20)        0         \n",
      "_________________________________________________________________\n",
      "conv2d_1 (Conv2D)            (None, 11, 11, 40)        7240      \n",
      "_________________________________________________________________\n",
      "flatten (Flatten)            (None, 4840)              0         \n",
      "_________________________________________________________________\n",
      "dense (Dense)                (None, 50)                242050    \n",
      "_________________________________________________________________\n",
      "dropout (Dropout)            (None, 50)                0         \n",
      "_________________________________________________________________\n",
      "dense_1 (Dense)              (None, 10)                510       \n",
      "=================================================================\n",
      "Total params: 250,000\n",
      "Trainable params: 250,000\n",
      "Non-trainable params: 0\n",
      "_________________________________________________________________\n"
     ]
    }
   ],
   "source": [
    "# Criando o modelo Sequential\n",
    "# Sequential: Modelo Keras de ir adicionando camadas (como um lego)\n",
    "# Conv2D: Camada com kernels (filtros) que percorrem a imagem extraindo caracterísitcas (mapas de caracteísticas)\n",
    "# MaxPooling2D: Camada que reduz a dimensionalidade dos mapas de características 2D\n",
    "# Flatten: Camada que transforma um mapa de características 2D num vetor para classficador final\n",
    "# Dense: Camada onde todas as entradas estão conectadas em cada neurônio (totalmente conectada)\n",
    "# Dropout: Camada usa durante treino que descarta aleatoriamente um percentual de conexões (reduz overfitting)\n",
    "\n",
    "model = Sequential()\n",
    "model.add(Conv2D(20, kernel_size=(3, 3),\n",
    "                 activation='relu',\n",
    "                 input_shape=(28,28,1)))\n",
    "model.add(MaxPooling2D(pool_size=(2, 2)))\n",
    "model.add(Conv2D(40, kernel_size=(3,3), activation='relu'))\n",
    "model.add(Flatten())\n",
    "model.add(Dense(50, activation='relu'))\n",
    "model.add(Dropout(0.2))\n",
    "model.add(Dense(num_classes, activation='softmax'))\n",
    "model.summary()"
   ]
  },
  {
   "cell_type": "code",
   "execution_count": 11,
   "metadata": {
    "ExecuteTime": {
     "end_time": "2019-01-08T21:33:17.184644Z",
     "start_time": "2019-01-08T21:33:17.129141Z"
    },
    "execution": {
     "iopub.execute_input": "2021-02-15T13:54:09.252728Z",
     "iopub.status.busy": "2021-02-15T13:54:09.251565Z",
     "iopub.status.idle": "2021-02-15T13:54:09.285176Z",
     "shell.execute_reply": "2021-02-15T13:54:09.284628Z"
    },
    "papermill": {
     "duration": 0.066516,
     "end_time": "2021-02-15T13:54:09.285295",
     "exception": false,
     "start_time": "2021-02-15T13:54:09.218779",
     "status": "completed"
    },
    "tags": []
   },
   "outputs": [],
   "source": [
    "# Compila o modelo\n",
    "model.compile(loss='categorical_crossentropy',\n",
    "              optimizer=RMSprop(),\n",
    "              metrics=['accuracy'])"
   ]
  },
  {
   "cell_type": "code",
   "execution_count": 12,
   "metadata": {
    "ExecuteTime": {
     "end_time": "2019-01-08T21:36:15.501168Z",
     "start_time": "2019-01-08T21:33:19.322895Z"
    },
    "execution": {
     "iopub.execute_input": "2021-02-15T13:54:09.345746Z",
     "iopub.status.busy": "2021-02-15T13:54:09.344979Z",
     "iopub.status.idle": "2021-02-15T13:55:30.093316Z",
     "shell.execute_reply": "2021-02-15T13:55:30.092796Z"
    },
    "papermill": {
     "duration": 80.782643,
     "end_time": "2021-02-15T13:55:30.093433",
     "exception": false,
     "start_time": "2021-02-15T13:54:09.310790",
     "status": "completed"
    },
    "tags": []
   },
   "outputs": [
    {
     "name": "stdout",
     "output_type": "stream",
     "text": [
      "Train on 37800 samples, validate on 4200 samples\n",
      "Epoch 1/20\n",
      "37664/37800 [============================>.] - ETA: 0s - loss: 0.2109 - accuracy: 0.9362\n",
      "Epoch 00001: val_loss improved from inf to 0.07642, saving model to model.h5\n",
      "37800/37800 [==============================] - 8s 224us/sample - loss: 0.2104 - accuracy: 0.9364 - val_loss: 0.0764 - val_accuracy: 0.9748\n",
      "Epoch 2/20\n",
      "37664/37800 [============================>.] - ETA: 0s - loss: 0.0760 - accuracy: 0.9775\n",
      "Epoch 00002: val_loss improved from 0.07642 to 0.04958, saving model to model.h5\n",
      "37800/37800 [==============================] - 5s 138us/sample - loss: 0.0758 - accuracy: 0.9775 - val_loss: 0.0496 - val_accuracy: 0.9860\n",
      "Epoch 3/20\n",
      "37664/37800 [============================>.] - ETA: 0s - loss: 0.0549 - accuracy: 0.9834\n",
      "Epoch 00003: val_loss did not improve from 0.04958\n",
      "37800/37800 [==============================] - 5s 131us/sample - loss: 0.0548 - accuracy: 0.9834 - val_loss: 0.0622 - val_accuracy: 0.9817\n",
      "Epoch 4/20\n",
      "37504/37800 [============================>.] - ETA: 0s - loss: 0.0436 - accuracy: 0.9874\n",
      "Epoch 00004: val_loss improved from 0.04958 to 0.04788, saving model to model.h5\n",
      "37800/37800 [==============================] - 5s 141us/sample - loss: 0.0434 - accuracy: 0.9874 - val_loss: 0.0479 - val_accuracy: 0.9869\n",
      "Epoch 5/20\n",
      "37536/37800 [============================>.] - ETA: 0s - loss: 0.0384 - accuracy: 0.9885\n",
      "Epoch 00005: val_loss improved from 0.04788 to 0.04319, saving model to model.h5\n",
      "37800/37800 [==============================] - 5s 133us/sample - loss: 0.0384 - accuracy: 0.9885 - val_loss: 0.0432 - val_accuracy: 0.9871\n",
      "Epoch 6/20\n",
      "37536/37800 [============================>.] - ETA: 0s - loss: 0.0355 - accuracy: 0.9892\n",
      "Epoch 00006: val_loss did not improve from 0.04319\n",
      "37800/37800 [==============================] - 5s 130us/sample - loss: 0.0354 - accuracy: 0.9892 - val_loss: 0.0481 - val_accuracy: 0.9864\n",
      "Epoch 7/20\n",
      "37440/37800 [============================>.] - ETA: 0s - loss: 0.0343 - accuracy: 0.9894\n",
      "Epoch 00007: val_loss did not improve from 0.04319\n",
      "37800/37800 [==============================] - 5s 134us/sample - loss: 0.0342 - accuracy: 0.9894 - val_loss: 0.0545 - val_accuracy: 0.9857\n",
      "Epoch 8/20\n",
      "37504/37800 [============================>.] - ETA: 0s - loss: 0.0329 - accuracy: 0.9906\n",
      "Epoch 00008: val_loss did not improve from 0.04319\n",
      "37800/37800 [==============================] - 5s 131us/sample - loss: 0.0329 - accuracy: 0.9906 - val_loss: 0.0565 - val_accuracy: 0.9867\n",
      "Epoch 9/20\n",
      "37632/37800 [============================>.] - ETA: 0s - loss: 0.0309 - accuracy: 0.9911\n",
      "Epoch 00009: val_loss did not improve from 0.04319\n",
      "37800/37800 [==============================] - 5s 142us/sample - loss: 0.0308 - accuracy: 0.9912 - val_loss: 0.0515 - val_accuracy: 0.9881\n",
      "Epoch 10/20\n",
      "37600/37800 [============================>.] - ETA: 0s - loss: 0.0297 - accuracy: 0.9915\n",
      "Epoch 00010: val_loss did not improve from 0.04319\n",
      "37800/37800 [==============================] - 5s 134us/sample - loss: 0.0302 - accuracy: 0.9915 - val_loss: 0.0531 - val_accuracy: 0.9864\n",
      "Epoch 11/20\n",
      "37728/37800 [============================>.] - ETA: 0s - loss: 0.0335 - accuracy: 0.9911\n",
      "Epoch 00011: val_loss did not improve from 0.04319\n",
      "37800/37800 [==============================] - 6s 152us/sample - loss: 0.0336 - accuracy: 0.9911 - val_loss: 0.0645 - val_accuracy: 0.9840\n",
      "Epoch 12/20\n",
      "37728/37800 [============================>.] - ETA: 0s - loss: 0.0321 - accuracy: 0.9913\n",
      "Epoch 00012: val_loss did not improve from 0.04319\n",
      "37800/37800 [==============================] - 5s 136us/sample - loss: 0.0323 - accuracy: 0.9912 - val_loss: 0.0597 - val_accuracy: 0.9852\n",
      "Epoch 13/20\n",
      "37440/37800 [============================>.] - ETA: 0s - loss: 0.0348 - accuracy: 0.9906\n",
      "Epoch 00013: val_loss did not improve from 0.04319\n",
      "37800/37800 [==============================] - 5s 138us/sample - loss: 0.0349 - accuracy: 0.9907 - val_loss: 0.0526 - val_accuracy: 0.9860\n",
      "Epoch 14/20\n",
      "37600/37800 [============================>.] - ETA: 0s - loss: 0.0336 - accuracy: 0.9910\n",
      "Epoch 00014: val_loss did not improve from 0.04319\n",
      "37800/37800 [==============================] - 5s 126us/sample - loss: 0.0339 - accuracy: 0.9910 - val_loss: 0.0688 - val_accuracy: 0.9831\n",
      "Epoch 15/20\n",
      "37536/37800 [============================>.] - ETA: 0s - loss: 0.0347 - accuracy: 0.9901\n",
      "Epoch 00015: val_loss did not improve from 0.04319\n",
      "37800/37800 [==============================] - 5s 136us/sample - loss: 0.0346 - accuracy: 0.9901 - val_loss: 0.0856 - val_accuracy: 0.9862\n",
      "Epoch 00015: early stopping\n"
     ]
    }
   ],
   "source": [
    "# Treina com os parte dos dados\n",
    "batch_size = 32\n",
    "epochs = 20\n",
    "\n",
    "#Salvar o melhor modelo\n",
    "callbacks_list = [\n",
    "    keras.callbacks.ModelCheckpoint(\n",
    "        filepath='model.h5',\n",
    "        monitor='val_loss', save_best_only=True, verbose=1),\n",
    "    keras.callbacks.EarlyStopping(monitor='val_loss', patience=10,verbose=1)\n",
    "]\n",
    "\n",
    "history = model.fit(x_train, y_train,\n",
    "                    batch_size=batch_size,\n",
    "                    epochs=epochs,\n",
    "                    callbacks = callbacks_list,\n",
    "                    verbose=1,\n",
    "                    validation_data=(x_val, y_val))"
   ]
  },
  {
   "cell_type": "code",
   "execution_count": 13,
   "metadata": {
    "ExecuteTime": {
     "end_time": "2019-01-08T21:36:20.243921Z",
     "start_time": "2019-01-08T21:36:20.064201Z"
    },
    "execution": {
     "iopub.execute_input": "2021-02-15T13:55:31.229585Z",
     "iopub.status.busy": "2021-02-15T13:55:31.222430Z",
     "iopub.status.idle": "2021-02-15T13:55:31.605719Z",
     "shell.execute_reply": "2021-02-15T13:55:31.605138Z"
    },
    "papermill": {
     "duration": 0.956682,
     "end_time": "2021-02-15T13:55:31.605851",
     "exception": false,
     "start_time": "2021-02-15T13:55:30.649169",
     "status": "completed"
    },
    "tags": []
   },
   "outputs": [
    {
     "data": {
      "image/png": "[encoded data removed]",
      "text/plain": [
       "<Figure size 1152x576 with 2 Axes>"
      ]
     },
     "metadata": {
      "needs_background": "light"
     },
     "output_type": "display_data"
    }
   ],
   "source": [
    "#Vamos ver como foi o treino?\n",
    "\n",
    "fig, ax = plt.subplots(1,2, figsize=(16,8))\n",
    "ax[0].plot(history.history['loss'], color='b', label=\"Training loss\")\n",
    "ax[0].plot(history.history['val_loss'], color='r', label=\"validation loss\",axes =ax[0])\n",
    "legend = ax[0].legend(loc='best', shadow=True)\n",
    "\n",
    "ax[1].plot(history.history['accuracy'], color='b', label=\"Training accuracy\")\n",
    "ax[1].plot(history.history['val_accuracy'], color='r',label=\"Validation accuracy\")\n",
    "legend = ax[1].legend(loc='best', shadow=True)"
   ]
  },
  {
   "cell_type": "code",
   "execution_count": 14,
   "metadata": {
    "execution": {
     "iopub.execute_input": "2021-02-15T13:55:32.786541Z",
     "iopub.status.busy": "2021-02-15T13:55:32.785737Z",
     "iopub.status.idle": "2021-02-15T13:55:33.302850Z",
     "shell.execute_reply": "2021-02-15T13:55:33.301573Z"
    },
    "papermill": {
     "duration": 1.084777,
     "end_time": "2021-02-15T13:55:33.303001",
     "exception": false,
     "start_time": "2021-02-15T13:55:32.218224",
     "status": "completed"
    },
    "tags": []
   },
   "outputs": [],
   "source": [
    "from tensorflow.keras.models import load_model\n",
    "# Load the best saved model\n",
    "model = load_model('model.h5')"
   ]
  },
  {
   "cell_type": "code",
   "execution_count": 15,
   "metadata": {
    "ExecuteTime": {
     "end_time": "2019-01-08T21:36:39.779842Z",
     "start_time": "2019-01-08T21:36:38.946173Z"
    },
    "execution": {
     "iopub.execute_input": "2021-02-15T13:55:34.424517Z",
     "iopub.status.busy": "2021-02-15T13:55:34.423456Z",
     "iopub.status.idle": "2021-02-15T13:55:34.877303Z",
     "shell.execute_reply": "2021-02-15T13:55:34.876663Z"
    },
    "papermill": {
     "duration": 1.018842,
     "end_time": "2021-02-15T13:55:34.877431",
     "exception": false,
     "start_time": "2021-02-15T13:55:33.858589",
     "status": "completed"
    },
    "tags": []
   },
   "outputs": [
    {
     "name": "stdout",
     "output_type": "stream",
     "text": [
      "Test loss: 0.04319210219363283\n",
      "Test accuracy: 0.98714286\n"
     ]
    }
   ],
   "source": [
    "# Testa\n",
    "score = model.evaluate(x_val, y_val, verbose=0)\n",
    "print('Test loss:', score[0])\n",
    "print('Test accuracy:', score[1])"
   ]
  },
  {
   "cell_type": "code",
   "execution_count": 16,
   "metadata": {
    "ExecuteTime": {
     "end_time": "2019-01-08T21:06:04.363715Z",
     "start_time": "2019-01-08T21:06:04.27849Z"
    },
    "execution": {
     "iopub.execute_input": "2021-02-15T13:55:36.053583Z",
     "iopub.status.busy": "2021-02-15T13:55:36.051882Z",
     "iopub.status.idle": "2021-02-15T13:55:36.167413Z",
     "shell.execute_reply": "2021-02-15T13:55:36.166527Z"
    },
    "papermill": {
     "duration": 0.729698,
     "end_time": "2021-02-15T13:55:36.167591",
     "exception": false,
     "start_time": "2021-02-15T13:55:35.437893",
     "status": "completed"
    },
    "tags": []
   },
   "outputs": [
    {
     "name": "stdout",
     "output_type": "stream",
     "text": [
      "[0. 0. 0. 0. 1. 0. 0. 0. 0. 0.]\n",
      "[[2.1879343e-05 1.0849446e-06 4.7175381e-06 2.3312539e-06 9.8052877e-01\n",
      "  3.7567810e-05 1.7108480e-02 7.4045667e-05 2.1248641e-03 9.6237171e-05]]\n",
      "[4]\n"
     ]
    }
   ],
   "source": [
    "# Testando uma entrada qualquer\n",
    "print(y_train[10])\n",
    "print(model.predict(x_train[10].reshape((1,28,28,1))))\n",
    "print(model.predict_classes(x_train[10].reshape((1,28,28,1))))"
   ]
  },
  {
   "cell_type": "markdown",
   "metadata": {
    "papermill": {
     "duration": 0.565893,
     "end_time": "2021-02-15T13:55:37.315705",
     "exception": false,
     "start_time": "2021-02-15T13:55:36.749812",
     "status": "completed"
    },
    "tags": []
   },
   "source": [
    "# Avaliando o Modelo"
   ]
  },
  {
   "cell_type": "code",
   "execution_count": 17,
   "metadata": {
    "execution": {
     "iopub.execute_input": "2021-02-15T13:55:38.485327Z",
     "iopub.status.busy": "2021-02-15T13:55:38.483082Z",
     "iopub.status.idle": "2021-02-15T13:55:38.486243Z",
     "shell.execute_reply": "2021-02-15T13:55:38.486767Z"
    },
    "papermill": {
     "duration": 0.584975,
     "end_time": "2021-02-15T13:55:38.486892",
     "exception": false,
     "start_time": "2021-02-15T13:55:37.901917",
     "status": "completed"
    },
    "tags": []
   },
   "outputs": [],
   "source": [
    "import itertools\n",
    "\n",
    "#Plot the confusion matrix. Set Normalize = True/False\n",
    "def plot_confusion_matrix(cm, classes, normalize=True, title='Confusion matrix', cmap=plt.cm.Blues):\n",
    "    \"\"\"\n",
    "    This function prints and plots the confusion matrix.\n",
    "    Normalization can be applied by setting `normalize=True`.\n",
    "    \"\"\"\n",
    "    plt.figure(figsize=(10,10))\n",
    "    plt.imshow(cm, interpolation='nearest', cmap=cmap)\n",
    "    plt.title(title)\n",
    "    plt.colorbar()\n",
    "    tick_marks = np.arange(len(classes))\n",
    "    plt.xticks(tick_marks, classes, rotation=45)\n",
    "    plt.yticks(tick_marks, classes)\n",
    "    if normalize:\n",
    "        cm = cm.astype('float') / cm.sum(axis=1)[:, np.newaxis]\n",
    "        cm = np.around(cm, decimals=2)\n",
    "        cm[np.isnan(cm)] = 0.0\n",
    "    thresh = cm.max() / 2.\n",
    "    for i, j in itertools.product(range(cm.shape[0]), range(cm.shape[1])):\n",
    "        plt.text(j, i, cm[i, j],\n",
    "                 horizontalalignment=\"center\",\n",
    "                 color=\"white\" if cm[i, j] > thresh else \"black\")\n",
    "    plt.tight_layout()\n",
    "    plt.ylabel('True label')\n",
    "    plt.xlabel('Predicted label')"
   ]
  },
  {
   "cell_type": "code",
   "execution_count": 18,
   "metadata": {
    "ExecuteTime": {
     "end_time": "2019-01-08T21:24:57.7654Z",
     "start_time": "2019-01-08T21:24:57.220867Z"
    },
    "execution": {
     "iopub.execute_input": "2021-02-15T13:55:40.365601Z",
     "iopub.status.busy": "2021-02-15T13:55:40.364542Z",
     "iopub.status.idle": "2021-02-15T13:55:41.299066Z",
     "shell.execute_reply": "2021-02-15T13:55:41.298429Z"
    },
    "papermill": {
     "duration": 1.768517,
     "end_time": "2021-02-15T13:55:41.299190",
     "exception": false,
     "start_time": "2021-02-15T13:55:39.530673",
     "status": "completed"
    },
    "tags": []
   },
   "outputs": [
    {
     "name": "stdout",
     "output_type": "stream",
     "text": [
      "Classification Report\n",
      "              precision    recall  f1-score   support\n",
      "\n",
      "           0       0.99      1.00      0.99       417\n",
      "           1       1.00      1.00      1.00       480\n",
      "           2       0.99      1.00      0.99       408\n",
      "           3       0.99      0.98      0.99       437\n",
      "           4       0.99      0.98      0.99       391\n",
      "           5       0.96      0.99      0.97       377\n",
      "           6       0.99      0.99      0.99       413\n",
      "           7       0.98      0.99      0.99       450\n",
      "           8       0.99      0.98      0.98       381\n",
      "           9       0.99      0.97      0.98       446\n",
      "\n",
      "    accuracy                           0.99      4200\n",
      "   macro avg       0.99      0.99      0.99      4200\n",
      "weighted avg       0.99      0.99      0.99      4200\n",
      "\n"
     ]
    },
    {
     "data": {
      "image/png": "[encoded data removed]",
      "text/plain": [
       "<Figure size 720x720 with 2 Axes>"
      ]
     },
     "metadata": {
      "needs_background": "light"
     },
     "output_type": "display_data"
    }
   ],
   "source": [
    "# Vendo alguns reports# Vendo alguns reports\n",
    "# Usando sklearn\n",
    "import numpy as np\n",
    "\n",
    "# Classificando toda base de teste\n",
    "y_pred = model.predict_classes(x_val)\n",
    "# voltando pro formato de classes\n",
    "y_test_c = np.argmax(y_val, axis=1)\n",
    "target_names = ['0', '1', '2', '3', '4', '5', '6', '7', '8', '9']\n",
    "\n",
    "#Confution Matrix\n",
    "cm = confusion_matrix(y_test_c, y_pred)\n",
    "plot_confusion_matrix(cm, target_names, normalize=False, title='Confusion Matrix')\n",
    "\n",
    "print('Classification Report')\n",
    "print(classification_report(y_test_c, y_pred, target_names=target_names))"
   ]
  },
  {
   "cell_type": "markdown",
   "metadata": {
    "papermill": {
     "duration": 0.575493,
     "end_time": "2021-02-15T13:55:42.507348",
     "exception": false,
     "start_time": "2021-02-15T13:55:41.931855",
     "status": "completed"
    },
    "tags": []
   },
   "source": [
    "# Gerando Saída"
   ]
  },
  {
   "cell_type": "code",
   "execution_count": 19,
   "metadata": {
    "execution": {
     "iopub.execute_input": "2021-02-15T13:55:43.643792Z",
     "iopub.status.busy": "2021-02-15T13:55:43.643051Z",
     "iopub.status.idle": "2021-02-15T13:55:47.887920Z",
     "shell.execute_reply": "2021-02-15T13:55:47.888753Z"
    },
    "papermill": {
     "duration": 4.817794,
     "end_time": "2021-02-15T13:55:47.888977",
     "exception": false,
     "start_time": "2021-02-15T13:55:43.071183",
     "status": "completed"
    },
    "tags": []
   },
   "outputs": [
    {
     "name": "stdout",
     "output_type": "stream",
     "text": [
      "Qtde de testes: 28000\n"
     ]
    },
    {
     "data": {
      "image/png": "[encoded data removed]",
      "text/plain": [
       "<Figure size 432x288 with 1 Axes>"
      ]
     },
     "metadata": {
      "needs_background": "light"
     },
     "output_type": "display_data"
    },
    {
     "name": "stdout",
     "output_type": "stream",
     "text": [
      "Previsto: 2\n",
      "   ImageId  Label\n",
      "0        1      2\n",
      "1        2      0\n",
      "2        3      9\n",
      "3        4      0\n",
      "4        5      3\n",
      "5        6      7\n",
      "6        7      0\n",
      "7        8      3\n",
      "8        9      0\n",
      "9       10      3\n"
     ]
    }
   ],
   "source": [
    "# Gerando saída para dataset de teste\n",
    "\n",
    "#Carrega dataset de teste\n",
    "test = pd.read_csv(\"../input/digit-recognizer/test.csv\")\n",
    "print(\"Qtde de testes: {}\".format(len(test)))\n",
    "# Bota no formato numpy e normaliza\n",
    "x_test = test.values.reshape(len(test),28,28,1)\n",
    "x_test = x_test.astype('float32')\n",
    "x_test /= 255\n",
    "\n",
    "# Faz classificação para dataset de teste\n",
    "y_pred = model.predict_classes(x_test)\n",
    "\n",
    "# Verficando algum exemplo\n",
    "i = 0\n",
    "plt.imshow(test.values[i].reshape(28,28), cmap=plt.cm.binary)\n",
    "plt.show()\n",
    "print('Previsto: {}'.format(y_pred[i]))\n",
    "\n",
    "# Botando no formato de saída (competição Kaggle)\n",
    "results = pd.Series(y_pred,name=\"Label\")\n",
    "submission = pd.concat([pd.Series(range(1,len(y_pred)+1),name = \"ImageId\"),results],axis = 1)\n",
    "print(submission.head(10))\n",
    "#Salvando Arquivo\n",
    "submission.to_csv(\"mlp_mnist_v1.csv\",index=False)"
   ]
  },
  {
   "cell_type": "markdown",
   "metadata": {
    "papermill": {
     "duration": 0.5681,
     "end_time": "2021-02-15T13:55:49.039981",
     "exception": false,
     "start_time": "2021-02-15T13:55:48.471881",
     "status": "completed"
    },
    "tags": []
   },
   "source": [
    "# Teste Adicional: Com ruído"
   ]
  },
  {
   "cell_type": "code",
   "execution_count": 20,
   "metadata": {
    "execution": {
     "iopub.execute_input": "2021-02-15T13:55:50.381406Z",
     "iopub.status.busy": "2021-02-15T13:55:50.380539Z",
     "iopub.status.idle": "2021-02-15T13:55:51.209963Z",
     "shell.execute_reply": "2021-02-15T13:55:51.211201Z"
    },
    "papermill": {
     "duration": 1.591528,
     "end_time": "2021-02-15T13:55:51.211429",
     "exception": false,
     "start_time": "2021-02-15T13:55:49.619901",
     "status": "completed"
    },
    "tags": []
   },
   "outputs": [
    {
     "data": {
      "image/png": "[encoded data removed]",
      "text/plain": [
       "<Figure size 432x288 with 1 Axes>"
      ]
     },
     "metadata": {
      "needs_background": "light"
     },
     "output_type": "display_data"
    },
    {
     "name": "stdout",
     "output_type": "stream",
     "text": [
      "Test loss: 0.10235787482488723\n",
      "Test accuracy: 0.97619045\n"
     ]
    }
   ],
   "source": [
    "#introduzindo ruido\n",
    "import numpy as np\n",
    "mean = 0.\n",
    "stddev = 0.2\n",
    "noise = np.random.normal(mean, stddev, (4200, 28, 28,1))\n",
    "x_te = x_val + noise\n",
    "x_te = np.clip(x_te, 0., 1.)\n",
    "\n",
    "plt.imshow(x_te.reshape(4200, 28,28)[0], cmap=plt.cm.binary)\n",
    "plt.show()\n",
    "\n",
    "# Testa\n",
    "score = model.evaluate(x_te, y_val, verbose=0)\n",
    "print('Test loss:', score[0])\n",
    "print('Test accuracy:', score[1])"
   ]
  },
  {
   "cell_type": "markdown",
   "metadata": {
    "papermill": {
     "duration": 0.557786,
     "end_time": "2021-02-15T13:55:52.326228",
     "exception": false,
     "start_time": "2021-02-15T13:55:51.768442",
     "status": "completed"
    },
    "tags": []
   },
   "source": [
    "Com ruído, percebemos que a acurácia dos exemplos de validação caiu, mas muito menos que o modelo MLP clássico (ver exemplo de MLP).\n",
    "Um modelo Convolucional (CNN) captura melhor regiões, ou padrões espaciais de pixels, tornando o modelo mais robusto."
   ]
  },
  {
   "cell_type": "code",
   "execution_count": null,
   "metadata": {
    "papermill": {
     "duration": 0.559144,
     "end_time": "2021-02-15T13:55:53.431039",
     "exception": false,
     "start_time": "2021-02-15T13:55:52.871895",
     "status": "completed"
    },
    "tags": []
   },
   "outputs": [],
   "source": []
  }
 ],
 "metadata": {
  "kernelspec": {
   "display_name": "Python 3",
   "language": "python",
   "name": "python3"
  },
  "language_info": {
   "codemirror_mode": {
    "name": "ipython",
    "version": 3
   },
   "file_extension": ".py",
   "mimetype": "text/x-python",
   "name": "python",
   "nbconvert_exporter": "python",
   "pygments_lexer": "ipython3",
   "version": "3.7.6"
  },
  "papermill": {
   "duration": 124.873489,
   "end_time": "2021-02-15T13:55:55.570988",
   "environment_variables": {},
   "exception": null,
   "input_path": "__notebook__.ipynb",
   "output_path": "__notebook__.ipynb",
   "parameters": {},
   "start_time": "2021-02-15T13:53:50.697499",
   "version": "2.1.0"
  }
 },
 "nbformat": 4,
 "nbformat_minor": 4
}
